{
 "cells": [
  {
   "cell_type": "code",
   "execution_count": null,
   "metadata": {},
   "outputs": [],
   "source": [
    "from data_prep_utils import *\n",
    "from plot_prep_utils import *\n",
    "import pandas as pd\n",
    "\n",
    "dt_titan = pd.read_csv('TitanTop1288.csv')\n",
    "dt_titan = dt_titan.dropna()\n",
    "\n",
    "dt_eigenphi = pd.read_csv('EigenPhiTop200.csv')\n",
    "dt_eigenphi = dt_eigenphi.dropna()"
   ]
  }
 ],
 "metadata": {
  "language_info": {
   "name": "python"
  }
 },
 "nbformat": 4,
 "nbformat_minor": 2
}
