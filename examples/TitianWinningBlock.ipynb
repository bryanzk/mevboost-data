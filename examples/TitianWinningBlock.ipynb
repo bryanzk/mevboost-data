{
 "cells": [
  {
   "cell_type": "code",
   "execution_count": 1,
   "metadata": {},
   "outputs": [],
   "source": [
    "import matplotlib.pyplot as plt # type: ignore\n",
    "import numpy as np # type: ignore\n",
    "import os\n",
    "import pandas as pd # type: ignore\n",
    "import requests\n",
    "from bs4 import BeautifulSoup\n",
    "import pandas as pd\n",
    "\n",
    "# prep Titan Builder public key from their page\n",
    "url = 'https://docs.titanbuilder.xyz/builder-public-keys'\n",
    "response = requests.get(url)\n",
    "\n",
    "soup = BeautifulSoup(response.text, 'html.parser')\n",
    "\n",
    "assorted_list = [tag.text for tag in soup.find_all('li')]\n",
    "titan_pub_key_list = [key for key in assorted_list if key.startswith('0x')]\n"
   ]
  },
  {
   "cell_type": "code",
   "execution_count": 2,
   "metadata": {},
   "outputs": [],
   "source": [
    "# Read 921 blocks' bidding data. Titan won these 921 blocks.\n",
    "pd.options.display.float_format = '{:.0f}'.format\n",
    "# Read the titan 921 block bidding history parquet file\n",
    "dft = pd.read_parquet('titan921.parquet', engine='pyarrow')"
   ]
  },
  {
   "cell_type": "code",
   "execution_count": 3,
   "metadata": {},
   "outputs": [],
   "source": [
    "# Load winning bid block history data\n",
    "#  !!!the data here is NOT THE LATEST FROM THE OG MEV DATA ALWAYS PROJECT. Go to: https://github.com/dataalways/mevboost-data to sync.\n",
    "base_path = '../data/'\n",
    "file_paths = os.listdir(base_path)\n",
    "\n",
    "dfs = []\n",
    "for file in file_paths:\n",
    "    if len(file) < 10: #.DS_store\n",
    "        continue\n",
    "    \n",
    "    df_tmp = pd.read_parquet(os.path.join(base_path, file))\n",
    "    dfs.append(df_tmp)\n",
    "\n",
    "df = pd.concat(dfs)\n",
    "df = df[df['payload_delivered'] == True]\n",
    "df.sort_values(by=['block_number', 'bid_timestamp_ms'], ascending=True, inplace=True)\n",
    "df.reset_index(inplace=True, drop=True)"
   ]
  }
 ],
 "metadata": {
  "kernelspec": {
   "display_name": ".venv",
   "language": "python",
   "name": "python3"
  },
  "language_info": {
   "codemirror_mode": {
    "name": "ipython",
    "version": 3
   },
   "file_extension": ".py",
   "mimetype": "text/x-python",
   "name": "python",
   "nbconvert_exporter": "python",
   "pygments_lexer": "ipython3",
   "version": "3.12.2"
  }
 },
 "nbformat": 4,
 "nbformat_minor": 2
}
