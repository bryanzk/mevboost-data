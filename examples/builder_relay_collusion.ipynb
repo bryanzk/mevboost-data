{
 "cells": [
  {
   "cell_type": "code",
   "execution_count": 3,
   "metadata": {},
   "outputs": [
    {
     "name": "stdout",
     "output_type": "stream",
     "text": [
      "CSV files found: ['2024-07-01_all.csv']\n",
      "CSV files found: ['2024-07-02_all.csv']\n",
      "CSV files found: ['2024-07-03_all.csv']\n",
      "48267191\n"
     ]
    }
   ],
   "source": [
    "import requests\n",
    "from bs4 import BeautifulSoup\n",
    "import zipfile\n",
    "import io\n",
    "import pandas as pd\n",
    "import re\n",
    "\n",
    "# URL of the page containing the ZIP file links\n",
    "index_url = \"https://bidarchive.relayscan.io/ethereum/mainnet/2024-07/index.html\"\n",
    "\n",
    "# Fetch the content of the page\n",
    "response = requests.get(index_url)\n",
    "soup = BeautifulSoup(response.content, 'html.parser')\n",
    "\n",
    "# Extract all links that match the pattern\n",
    "zip_urls = []\n",
    "counter = 0\n",
    "for link in soup.find_all('a', href=True):\n",
    "    if counter > 2:\n",
    "        break\n",
    "    href = link['href']\n",
    "    if re.match(r'\\d{4}-\\d{2}-\\d{2}_all\\.csv\\.zip$', href):\n",
    "        zip_urls.append(index_url.rsplit('/', 1)[0] + '/' + href)\n",
    "        counter += 1\n",
    "\n",
    "\n",
    "def download_and_extract_csv(zip_url):\n",
    "    response = requests.get(zip_url)\n",
    "    with zipfile.ZipFile(io.BytesIO(response.content)) as thezip:\n",
    "        csv_files = [file for file in thezip.namelist() if file.endswith('.csv')]\n",
    "        print(f\"CSV files found: {csv_files}\")  # Print the names of the CSV files\n",
    "        frames = [pd.read_csv(thezip.open(file)) for file in csv_files]\n",
    "        return pd.concat(frames, ignore_index=True)\n",
    "\n",
    "\n",
    "# Combine all data into a single DataFrame\n",
    "all_data = pd.concat([download_and_extract_csv(url) for url in zip_urls], ignore_index=True)\n",
    "\n",
    "\n",
    "# Display the DataFrame\n",
    "print(all_data.shape[0])\n",
    "\n",
    "\n"
   ]
  },
  {
   "cell_type": "code",
   "execution_count": 4,
   "metadata": {},
   "outputs": [
    {
     "name": "stdout",
     "output_type": "stream",
     "text": [
      "48267191\n",
      "['BTCS' 'Beelder' 'Blocknative' 'BuildAI' 'Builder Boi'\n",
      " 'Building Blocks, Breaking Chains' 'Buildooooooooooooooooooooooor'\n",
      " 'EigenPhi' 'Gambit Labs' 'I can haz block?'\n",
      " 'If you build it, they will come.' \"It's Free Real Estate\" 'Manifold'\n",
      " 'Titan' 'Ty For The Block' 'antbuilder' 'ashpool' 'beaverbuild'\n",
      " 'bloXroute' 'bobTheBuilder' 'boba-builder' 'builder0x69' 'default key'\n",
      " 'eden' 'eth-builder' 'f1b' 'finest artisanal blocks' 'flashbots'\n",
      " 'ibuilder' 'imposter' 'jetbldr' 'lightspeedbuilder' 'lokibuilder'\n",
      " 'manta-builder' 'mars' 'merkle Block' 'miao' 'nfactorial' 'panda'\n",
      " 'payload' 'penguin' 'red ocean surfer' 'rsync' 's0e2t' 'smithbot'\n",
      " 'smithbuilder' 'spiderbuilder' 'tbuilder' 'uwu.builders' 'wenmerge']\n"
     ]
    }
   ],
   "source": [
    "from data_prep_utils import *\n",
    "from plot_prep_utils import *\n",
    "\n",
    "pd.set_option('display.float_format', lambda x: '%.2f' % x)\n",
    "df_builder = get_builder_info_from_latest_TLDR_talk()\n",
    "\n",
    "print(all_data.shape[0])\n",
    "\n",
    "df_builder = get_builder_info_from_latest_TLDR_talk()\n",
    "print(df_builder[\"builder_label\"].unique())"
   ]
  },
  {
   "cell_type": "code",
   "execution_count": 5,
   "metadata": {},
   "outputs": [
    {
     "name": "stdout",
     "output_type": "stream",
     "text": [
      "48267191\n"
     ]
    }
   ],
   "source": [
    "df_bid_with_merged_builder_label = pd.merge(all_data, df_builder, on='builder_pubkey', how='left')\n",
    "print(df_bid_with_merged_builder_label.shape[0])\n"
   ]
  },
  {
   "cell_type": "code",
   "execution_count": 12,
   "metadata": {},
   "outputs": [
    {
     "name": "stdout",
     "output_type": "stream",
     "text": [
      "Min Block Number: 20207941\n",
      "Max Block Number: 20229426\n",
      "total bids of the on chain blocks\n",
      "38291\n",
      "total unique bids of the on chain blocks\n",
      "36493\n",
      "total unique bids of the on chain blocks by builder\n",
      "36488\n"
     ]
    }
   ],
   "source": [
    "# Get the min and max block numbers\n",
    "min_block_number = all_data['block_number'].min()\n",
    "max_block_number = all_data['block_number'].max()\n",
    "print(f'Min Block Number: {min_block_number}')\n",
    "print(f'Max Block Number: {max_block_number}')\n",
    "\n",
    "csv_filename = 'tx_block_'+ str(min_block_number) + '_to_' + str(max_block_number) + '.csv'\n",
    "\n",
    "df_onchain_block = pd.read_csv(csv_filename)\n",
    "\n",
    "# print(\"total block number: \")\n",
    "# print(df_onchain_block['block_number'].nunique())\n",
    "\n",
    "# 合并最新 builder label信息\n",
    "df_onchain_block_with_merged_builder_label = pd.merge(df_onchain_block, df_builder, on='builder_pubkey', how='left', suffixes=('_old', ''))\n",
    "print(\"total bids of the on chain blocks\")\n",
    "print(df_onchain_block.shape[0])\n",
    "\n",
    "# 按照block number, value, relay进行groupby，计算 bid次数\n",
    "df_onchain_unique_bids = df_onchain_block.groupby(['block_number', 'value', 'relay']).size().reset_index(name='bid_counts_by_key')\n",
    "print(\"total unique bids of the on chain blocks\")\n",
    "print(df_onchain_unique_bids.shape[0])\n",
    "\n",
    "# 按照block number, value, relay, builder_label进行groupby，计算 bid次数\n",
    "df_onchain_unique_bids_by_builder = df_onchain_block.groupby(['block_number', 'value', 'relay', 'builder_label']).size().reset_index(name='bid_counts_by_builder')\n",
    "print(\"total unique bids of the on chain blocks by builder\")\n",
    "print(df_onchain_unique_bids_by_builder.shape[0])\n"
   ]
  },
  {
   "cell_type": "code",
   "execution_count": 13,
   "metadata": {},
   "outputs": [
    {
     "name": "stdout",
     "output_type": "stream",
     "text": [
      "Rows in df_onchain_unique_bids but not in df_onchain_unique_bids_by_builder:\n",
      "       block_number                  value                relay  \\\n",
      "626        20208309 1763680389588090112.00  bloxroute_regulated   \n",
      "3134       20209740   68761545393998920.00           ultrasound   \n",
      "17144      20217941  204953066076304576.00           ultrasound   \n",
      "26317      20223399  617397212022392320.00           ultrasound   \n",
      "34086      20228025  150153902827810816.00           ultrasound   \n",
      "\n",
      "       bid_counts_by_key  key     _merge  \n",
      "626                    1    1  left_only  \n",
      "3134                   1    1  left_only  \n",
      "17144                  1    1  left_only  \n",
      "26317                  1    1  left_only  \n",
      "34086                  1    1  left_only  \n",
      "Rows in df_onchain_unique_bids_by_builder but not in df_onchain_unique_bids:\n",
      "Empty DataFrame\n",
      "Columns: [block_number, value, relay, bid_counts_by_key, key, _merge]\n",
      "Index: []\n",
      "Matching rows in df_onchain_block for difference_in_unique_bids:\n",
      "        block_datetime     slot  block_number  \\\n",
      "0  2024-07-01 01:12:47  9414362      20208309   \n",
      "1  2024-07-01 06:00:11  9415799      20209740   \n",
      "2  2024-07-02 09:29:11  9424044      20217941   \n",
      "3  2024-07-03 03:48:59  9429543      20223399   \n",
      "4  2024-07-03 19:18:35  9434191      20228025   \n",
      "\n",
      "                                          block_hash                  value  \\\n",
      "0  0x1b967ab511062485ff533c4878e9ac4353efd7881c16... 1763680389588090112.00   \n",
      "1  0x6ab0228cb22e4dfc42fa00ee91624c3f3c3e4252e37c...   68761545393998920.00   \n",
      "2  0xa5771aff0451e99a5ccf4485c2402c5a5c13fd2ee92d...  204953066076304576.00   \n",
      "3  0x0b660513ff79c5de253c6b84cc81052135efd4546212...  617397212022392320.00   \n",
      "4  0xfbf5c91d4730f408427e310e274a98d442609523e5d6...  150153902827810816.00   \n",
      "\n",
      "   base_fee_per_gas   gas_limit  gas_used  num_tx builder_label_old  ...  \\\n",
      "0     3576933705.00 30000000.00  10468510  102.00               NaN  ...   \n",
      "1     2199484317.00 30000000.00  10452775  178.00               NaN  ...   \n",
      "2     4519325682.00 30000000.00   9506966  135.00               NaN  ...   \n",
      "3     3976415690.00 30000000.00  10689318  105.00               NaN  ...   \n",
      "4    14279687758.00 30000000.00  11543493  130.00               NaN  ...   \n",
      "\n",
      "                 relay bid_timestamp_ms  slot_time_ms  \\\n",
      "0  bloxroute_regulated 1719796366548.00      11548.00   \n",
      "1           ultrasound 1719813611939.00      12939.00   \n",
      "2           ultrasound 1719912552085.00      13085.00   \n",
      "3           ultrasound 1719978539820.00      12820.00   \n",
      "4           ultrasound 1720034315702.00      12702.00   \n",
      "\n",
      "                                     proposer_pubkey  \\\n",
      "0  0x8592996793cb47884e642b71571c703489eacc349748...   \n",
      "1  0xa5a6a4d44589aa7995ffb83d004336d80fbcfef5f1e5...   \n",
      "2  0xab9a49edad8620d94cac1846b11b8590760fbacc1293...   \n",
      "3  0x97a307d6450ca0fdcf34eefa14e7cad41bfbd0271b89...   \n",
      "4  0xb372d266a78a6df82d38aca2668ef31210ccaa557ff7...   \n",
      "\n",
      "                       proposer_mev_recipient optimistic_submission  \\\n",
      "0  0xA8C62111e4652b07110A0FC81816303c42632f64                   NaN   \n",
      "1  0x388C818CA8B9251b393131C08a736A67ccB19297                  True   \n",
      "2  0x4675C7e5BaAFBFFbca748158bEcBA61ef3b0a263                  True   \n",
      "3  0x388C818CA8B9251b393131C08a736A67ccB19297                  True   \n",
      "4  0x4675C7e5BaAFBFFbca748158bEcBA61ef3b0a263                  True   \n",
      "\n",
      "  block_timestamp  extra_data payload_delivered  builder_label  \n",
      "0   1719796367.00          0x              True            NaN  \n",
      "1   1719813611.00          0x              True            NaN  \n",
      "2   1719912551.00          0x              True            NaN  \n",
      "3   1719978539.00          0x              True            NaN  \n",
      "4   1720034315.00          0x              True            NaN  \n",
      "\n",
      "[5 rows x 21 columns]\n"
     ]
    }
   ],
   "source": [
    "# 找出 df_onchain_unique_bids 和 df_onchain_unique_bids_by_builder 之间的差异行\n",
    "# 首先，从 df_onchain_unique_bids_by_builder 中去掉 builder_label 列，以便比较\n",
    "df_onchain_unique_bids_simplified = df_onchain_unique_bids_by_builder.drop(columns=['builder_label', 'bid_counts_by_builder']).copy()\n",
    "df_onchain_unique_bids_simplified['key'] = 1  # 添加一个辅助列以便进行合并\n",
    "\n",
    "# 添加一个辅助列到 df_onchain_unique_bids，以便进行合并\n",
    "df_onchain_unique_bids['key'] = 1\n",
    "\n",
    "# 使用 merge 合并两个数据帧\n",
    "merged = pd.merge(df_onchain_unique_bids, df_onchain_unique_bids_simplified, on=['block_number', 'value', 'relay', 'key'], how='outer', indicator=True)\n",
    "\n",
    "# 找出在 df_onchain_unique_bids 中存在但不在 df_onchain_unique_bids_simplified 中的行\n",
    "difference_in_unique_bids = merged[merged['_merge'] == 'left_only']\n",
    "\n",
    "# 找出在 df_onchain_unique_bids_simplified 中存在但不在 df_onchain_unique_bids 中的行\n",
    "difference_in_unique_bids_by_builder = merged[merged['_merge'] == 'right_only']\n",
    "\n",
    "# 打印差异行\n",
    "print(\"Rows in df_onchain_unique_bids but not in df_onchain_unique_bids_by_builder:\")\n",
    "print(difference_in_unique_bids)\n",
    "\n",
    "print(\"Rows in df_onchain_unique_bids_by_builder but not in df_onchain_unique_bids:\")\n",
    "print(difference_in_unique_bids_by_builder)\n",
    "\n",
    "\n",
    "# 根据 difference_in_unique_bids 中的 block_number, value, relay 找出 df_onchain_block 中的对应数据行\n",
    "matching_rows = df_onchain_block_with_merged_builder_label.merge(difference_in_unique_bids[['block_number', 'value', 'relay']], on=['block_number', 'value', 'relay'], how='inner')\n",
    "\n",
    "# 打印找到的对应数据行\n",
    "print(\"Matching rows in df_onchain_block for difference_in_unique_bids:\")\n",
    "print(matching_rows)"
   ]
  },
  {
   "cell_type": "code",
   "execution_count": null,
   "metadata": {},
   "outputs": [],
   "source": []
  }
 ],
 "metadata": {
  "kernelspec": {
   "display_name": ".venv",
   "language": "python",
   "name": "python3"
  },
  "language_info": {
   "codemirror_mode": {
    "name": "ipython",
    "version": 3
   },
   "file_extension": ".py",
   "mimetype": "text/x-python",
   "name": "python",
   "nbconvert_exporter": "python",
   "pygments_lexer": "ipython3",
   "version": "3.12.2"
  }
 },
 "nbformat": 4,
 "nbformat_minor": 2
}
