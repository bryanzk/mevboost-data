{
 "cells": [
  {
   "cell_type": "markdown",
   "metadata": {},
   "source": [
    "Analysis Titan's winning 921 blocks.\n",
    "\n",
    "Author: Bryanzk\n",
    "Date Modified: 2024.04.11\n",
    "License: CC0"
   ]
  },
  {
   "cell_type": "code",
   "execution_count": 4,
   "metadata": {},
   "outputs": [
    {
     "ename": "NameError",
     "evalue": "name 'get_raw_block_data_with_winning_bids' is not defined",
     "output_type": "error",
     "traceback": [
      "\u001b[0;31m---------------------------------------------------------------------------\u001b[0m",
      "\u001b[0;31mNameError\u001b[0m                                 Traceback (most recent call last)",
      "Cell \u001b[0;32mIn[4], line 2\u001b[0m\n\u001b[1;32m      1\u001b[0m \u001b[38;5;28;01mfrom\u001b[39;00m \u001b[38;5;21;01mdata_prep_utils\u001b[39;00m \u001b[38;5;28;01mimport\u001b[39;00m \u001b[38;5;241m*\u001b[39m\n\u001b[0;32m----> 2\u001b[0m rawdf \u001b[38;5;241m=\u001b[39m \u001b[43mget_raw_block_data_with_winning_bids\u001b[49m()\n\u001b[1;32m      3\u001b[0m nan_rows \u001b[38;5;241m=\u001b[39m rawdf[rawdf[\u001b[38;5;124m'\u001b[39m\u001b[38;5;124mbid_timestamp_ms\u001b[39m\u001b[38;5;124m'\u001b[39m]\u001b[38;5;241m.\u001b[39misna()]\n\u001b[1;32m      4\u001b[0m \u001b[38;5;28mprint\u001b[39m(nan_rows)\n",
      "\u001b[0;31mNameError\u001b[0m: name 'get_raw_block_data_with_winning_bids' is not defined"
     ]
    }
   ],
   "source": [
    "from data_prep_utils import *\n",
    "rawdf = get_raw_block_data_with_winning_bids()\n",
    "nan_rows = rawdf[rawdf['bid_timestamp_ms'].isna()]\n",
    "print(nan_rows)\n",
    "\n",
    "\n",
    "df = get_block_data_with_winning_bids()\n",
    "dft = get_titan_won_921_blocks_bidding_data()\n",
    "df_builder_info = get_builder_info()"
   ]
  },
  {
   "cell_type": "code",
   "execution_count": 2,
   "metadata": {},
   "outputs": [
    {
     "ename": "NameError",
     "evalue": "name 'df' is not defined",
     "output_type": "error",
     "traceback": [
      "\u001b[0;31m---------------------------------------------------------------------------\u001b[0m",
      "\u001b[0;31mNameError\u001b[0m                                 Traceback (most recent call last)",
      "Cell \u001b[0;32mIn[2], line 3\u001b[0m\n\u001b[1;32m      1\u001b[0m \u001b[38;5;66;03m# Filter out the duplicate block_number records with the earliest bid_timestamp, which is the winning bid thru the fastest relay\u001b[39;00m\n\u001b[1;32m      2\u001b[0m \u001b[38;5;66;03m# N.B.: this would omit the records with the same block_number but different bid_timestamp from differe relays\u001b[39;00m\n\u001b[0;32m----> 3\u001b[0m df_filtered \u001b[38;5;241m=\u001b[39m \u001b[43mdf\u001b[49m\u001b[38;5;241m.\u001b[39mcopy()\n\u001b[1;32m      4\u001b[0m df_filtered \u001b[38;5;241m=\u001b[39m df_filtered\u001b[38;5;241m.\u001b[39msort_values([\u001b[38;5;124m'\u001b[39m\u001b[38;5;124mblock_number\u001b[39m\u001b[38;5;124m'\u001b[39m, \u001b[38;5;124m'\u001b[39m\u001b[38;5;124mbid_timestamp_ms\u001b[39m\u001b[38;5;124m'\u001b[39m])\n\u001b[1;32m      5\u001b[0m df_filtered \u001b[38;5;241m=\u001b[39m df_filtered\u001b[38;5;241m.\u001b[39mdrop_duplicates(\u001b[38;5;124m'\u001b[39m\u001b[38;5;124mblock_number\u001b[39m\u001b[38;5;124m'\u001b[39m, keep\u001b[38;5;241m=\u001b[39m\u001b[38;5;124m'\u001b[39m\u001b[38;5;124mfirst\u001b[39m\u001b[38;5;124m'\u001b[39m)\n",
      "\u001b[0;31mNameError\u001b[0m: name 'df' is not defined"
     ]
    }
   ],
   "source": [
    "# Filter out the duplicate block_number records with the earliest bid_timestamp, which is the winning bid thru the fastest relay\n",
    "# N.B.: this would omit the records with the same block_number but different bid_timestamp from differe relays\n",
    "df_filtered = df.copy()\n",
    "df_filtered = df_filtered.sort_values(['block_number', 'bid_timestamp_ms'])\n",
    "df_filtered = df_filtered.drop_duplicates('block_number', keep='first')\n",
    "\n",
    "# get the unique block numbers won by Titan\n",
    "unique_block_numbers_won_by_titan = dft['block_number'].unique()\n",
    "\n",
    "df_filtered_titan = df_filtered[df_filtered['block_number'].isin(unique_block_numbers_won_by_titan)]\n",
    "# df_filtered_titan.loc[:,'bid_timestamp_ms'] = pd.to_datetime(df_filtered['bid_timestamp_ms'], unit='ms')\n",
    "print(df_filtered_titan.shape[0])"
   ]
  },
  {
   "cell_type": "code",
   "execution_count": 1,
   "metadata": {},
   "outputs": [
    {
     "ename": "NameError",
     "evalue": "name 'df_filtered_titan' is not defined",
     "output_type": "error",
     "traceback": [
      "\u001b[0;31m---------------------------------------------------------------------------\u001b[0m",
      "\u001b[0;31mNameError\u001b[0m                                 Traceback (most recent call last)",
      "Cell \u001b[0;32mIn[1], line 14\u001b[0m\n\u001b[1;32m     10\u001b[0m \u001b[38;5;28;01mimport\u001b[39;00m \u001b[38;5;21;01mmatplotlib\u001b[39;00m\u001b[38;5;21;01m.\u001b[39;00m\u001b[38;5;21;01mticker\u001b[39;00m \u001b[38;5;28;01mas\u001b[39;00m \u001b[38;5;21;01mticker\u001b[39;00m\n\u001b[1;32m     13\u001b[0m \u001b[38;5;66;03m# 计算 ts_diff 的最小和最大值\u001b[39;00m\n\u001b[0;32m---> 14\u001b[0m x_min \u001b[38;5;241m=\u001b[39m np\u001b[38;5;241m.\u001b[39mfloor(\u001b[43mdf_filtered_titan\u001b[49m[\u001b[38;5;124m'\u001b[39m\u001b[38;5;124mts_diff_secs\u001b[39m\u001b[38;5;124m'\u001b[39m]\u001b[38;5;241m.\u001b[39mmin())\n\u001b[1;32m     15\u001b[0m x_max \u001b[38;5;241m=\u001b[39m np\u001b[38;5;241m.\u001b[39mceil(df_filtered_titan[\u001b[38;5;124m'\u001b[39m\u001b[38;5;124mts_diff_secs\u001b[39m\u001b[38;5;124m'\u001b[39m]\u001b[38;5;241m.\u001b[39mmax())\n\u001b[1;32m     16\u001b[0m \u001b[38;5;28mprint\u001b[39m (\u001b[38;5;124m\"\u001b[39m\u001b[38;5;124mmin:\u001b[39m\u001b[38;5;124m\"\u001b[39m \u001b[38;5;241m+\u001b[39m \u001b[38;5;28mstr\u001b[39m(x_min) \u001b[38;5;241m+\u001b[39m \u001b[38;5;124m\"\u001b[39m\u001b[38;5;124m; max:\u001b[39m\u001b[38;5;124m\"\u001b[39m \u001b[38;5;241m+\u001b[39m \u001b[38;5;28mstr\u001b[39m(x_max))\n",
      "\u001b[0;31mNameError\u001b[0m: name 'df_filtered_titan' is not defined"
     ]
    }
   ],
   "source": [
    "#Now the data is ready. Time to draw.\n",
    "# Plot the stacked barchart of builder label with ts_diff as the x-axis\n",
    "import matplotlib.pyplot as plt\n",
    "import matplotlib.cm as cm\n",
    "import numpy as np\n",
    "import matplotlib.ticker as ticker\n",
    "import matplotlib.pyplot as plt\n",
    "import matplotlib.cm as cm\n",
    "import numpy as np\n",
    "import matplotlib.ticker as ticker\n",
    "\n",
    "\n",
    "# 计算 ts_diff 的最小和最大值\n",
    "x_min = np.floor(df_filtered_titan['ts_diff_secs'].min())\n",
    "x_max = np.ceil(df_filtered_titan['ts_diff_secs'].max())\n",
    "print (\"min:\" + str(x_min) + \"; max:\" + str(x_max))\n",
    "\n",
    "\n",
    "# 创建 `ts_diff_secs` 的区间（每0.1秒）\n",
    "df_filtered_titan['ts_diff_bins'] = pd.cut(\n",
    "    df_filtered_titan['ts_diff_secs'], \n",
    "    np.arange(x_min, x_max + 0.1, 0.1)  # 使用 x_min 和 x_max\n",
    ")\n",
    "\n",
    "\n",
    "grouped = df_filtered_titan.groupby(['ts_diff_bins']).size().unstack(fill_value=0)\n",
    "\n",
    "print(df_filtered_titan.columns)\n",
    "\n",
    "# highlight_labels = [label.lower() for label in [\"EigenPhi\", \"rsync\", \"titan\", \"Beaver\"]]\n",
    "\n",
    "# # 创建颜色映射\n",
    "# labels = df_filtered_titan['builder_label'].unique()\n",
    "\n",
    "# normal_colors = cm.rainbow(np.linspace(0, 1, len(labels)))\n",
    "# highlight_colors = [\"red\", \"green\", \"black\", \"yellow\"] \n",
    "\n",
    "# color_map = {}\n",
    "# labels_list = list(labels)  # 将numpy数组转换为列表\n",
    "\n",
    "# for label in labels:\n",
    "#     # 如果该标签包含 highlight_labels 中的任何一个，则将其视为高亮标签\n",
    "#     if any(hl in label.lower() for hl in highlight_labels):\n",
    "#         color_map[label] = highlight_colors[highlight_labels.index(next(hl for hl in highlight_labels if hl in label.lower()))]\n",
    "#     else:\n",
    "#         color_map[label] = normal_colors[labels_list.index(label)]  # 使用列表的index方法\n",
    "\n",
    "\n",
    "ax = grouped.T.plot(kind='bar', stacked=True, color=[color_map[i] for i in labels], figsize=(10,6))\n",
    "\n",
    "# 在生成图之前，先获取并排序图例标签\n",
    "handles, labels = ax.get_legend_handles_labels()  \n",
    "labels, handles = zip(*sorted(zip(labels, handles), key=lambda t: t[0]))\n",
    "\n",
    "ax.xaxis.set_major_locator(ticker.MultipleLocator(base=10))  # 设置主要刻度为1秒\n",
    "ax.xaxis.set_minor_locator(ticker.MultipleLocator(base=1))   # 设置次要刻度为0.1秒\n",
    "\n",
    "# 逆转x轴\n",
    "ax.invert_xaxis()\n",
    "\n",
    "plt.xlabel('ts_diff (seconds)', fontsize=12)\n",
    "plt.ylabel('Won Blocks', fontsize=12)\n",
    "plt.title('921  Bidding times vs ts_diff for each builder_label')\n",
    "\n",
    "# 使用排序后的标签和句柄来创建图例\n",
    "ax.legend(handles, labels)  \n",
    "\n",
    "plt.show()\n",
    "\n",
    "\n"
   ]
  },
  {
   "cell_type": "code",
   "execution_count": null,
   "metadata": {},
   "outputs": [],
   "source": []
  }
 ],
 "metadata": {
  "kernelspec": {
   "display_name": ".venv",
   "language": "python",
   "name": "python3"
  },
  "language_info": {
   "codemirror_mode": {
    "name": "ipython",
    "version": 3
   },
   "file_extension": ".py",
   "mimetype": "text/x-python",
   "name": "python",
   "nbconvert_exporter": "python",
   "pygments_lexer": "ipython3",
   "version": "3.12.2"
  }
 },
 "nbformat": 4,
 "nbformat_minor": 2
}
