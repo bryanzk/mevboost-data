{
 "cells": [
  {
   "cell_type": "markdown",
   "metadata": {},
   "source": [
    "Extract all bid csv from the page: https://bidarchive.relayscan.io/ethereum/mainnet/2024-06/index.html"
   ]
  },
  {
   "cell_type": "code",
   "execution_count": 5,
   "metadata": {},
   "outputs": [
    {
     "name": "stderr",
     "output_type": "stream",
     "text": [
      "/var/folders/mf/lxpn1ltx7t97r1v1k92vly1w0000gn/T/ipykernel_99915/2289705463.py:26: DtypeWarning: Columns (5) have mixed types. Specify dtype option on import or set low_memory=False.\n",
      "  frames = [pd.read_csv(thezip.open(file)) for file in csv_files]\n",
      "/var/folders/mf/lxpn1ltx7t97r1v1k92vly1w0000gn/T/ipykernel_99915/2289705463.py:26: DtypeWarning: Columns (5) have mixed types. Specify dtype option on import or set low_memory=False.\n",
      "  frames = [pd.read_csv(thezip.open(file)) for file in csv_files]\n",
      "/var/folders/mf/lxpn1ltx7t97r1v1k92vly1w0000gn/T/ipykernel_99915/2289705463.py:26: DtypeWarning: Columns (5) have mixed types. Specify dtype option on import or set low_memory=False.\n",
      "  frames = [pd.read_csv(thezip.open(file)) for file in csv_files]\n",
      "/var/folders/mf/lxpn1ltx7t97r1v1k92vly1w0000gn/T/ipykernel_99915/2289705463.py:26: DtypeWarning: Columns (5) have mixed types. Specify dtype option on import or set low_memory=False.\n",
      "  frames = [pd.read_csv(thezip.open(file)) for file in csv_files]\n",
      "/var/folders/mf/lxpn1ltx7t97r1v1k92vly1w0000gn/T/ipykernel_99915/2289705463.py:26: DtypeWarning: Columns (5) have mixed types. Specify dtype option on import or set low_memory=False.\n",
      "  frames = [pd.read_csv(thezip.open(file)) for file in csv_files]\n",
      "/var/folders/mf/lxpn1ltx7t97r1v1k92vly1w0000gn/T/ipykernel_99915/2289705463.py:26: DtypeWarning: Columns (5,14) have mixed types. Specify dtype option on import or set low_memory=False.\n",
      "  frames = [pd.read_csv(thezip.open(file)) for file in csv_files]\n",
      "/var/folders/mf/lxpn1ltx7t97r1v1k92vly1w0000gn/T/ipykernel_99915/2289705463.py:26: DtypeWarning: Columns (5) have mixed types. Specify dtype option on import or set low_memory=False.\n",
      "  frames = [pd.read_csv(thezip.open(file)) for file in csv_files]\n",
      "/var/folders/mf/lxpn1ltx7t97r1v1k92vly1w0000gn/T/ipykernel_99915/2289705463.py:26: DtypeWarning: Columns (5) have mixed types. Specify dtype option on import or set low_memory=False.\n",
      "  frames = [pd.read_csv(thezip.open(file)) for file in csv_files]\n"
     ]
    },
    {
     "name": "stdout",
     "output_type": "stream",
     "text": [
      "175115767\n"
     ]
    }
   ],
   "source": [
    "import requests\n",
    "from bs4 import BeautifulSoup\n",
    "import zipfile\n",
    "import io\n",
    "import pandas as pd\n",
    "import re\n",
    "\n",
    "# URL of the page containing the ZIP file links\n",
    "index_url = \"https://bidarchive.relayscan.io/ethereum/mainnet/2024-06/index.html\"\n",
    "\n",
    "# Fetch the content of the page\n",
    "response = requests.get(index_url)\n",
    "soup = BeautifulSoup(response.content, 'html.parser')\n",
    "\n",
    "# Extract all links that match the pattern\n",
    "zip_urls = []\n",
    "for link in soup.find_all('a', href=True):\n",
    "    href = link['href']\n",
    "    if re.match(r'\\d{4}-\\d{2}-\\d{2}_all\\.csv\\.zip$', href):\n",
    "        zip_urls.append(index_url.rsplit('/', 1)[0] + '/' + href)\n",
    "\n",
    "def download_and_extract_csv(zip_url):\n",
    "    response = requests.get(zip_url)\n",
    "    with zipfile.ZipFile(io.BytesIO(response.content)) as thezip:\n",
    "        csv_files = [file for file in thezip.namelist() if file.endswith('.csv')]\n",
    "        frames = [pd.read_csv(thezip.open(file)) for file in csv_files]\n",
    "        return pd.concat(frames, ignore_index=True)\n",
    "\n",
    "# Combine all data into a single DataFrame\n",
    "all_data = pd.concat([download_and_extract_csv(url) for url in zip_urls], ignore_index=True)\n",
    "\n",
    "# Display the DataFrame\n",
    "print(all_data.shape[0])\n"
   ]
  },
  {
   "cell_type": "code",
   "execution_count": 18,
   "metadata": {},
   "outputs": [
    {
     "name": "stdout",
     "output_type": "stream",
     "text": [
      "1272084\n",
      "count    0.00\n",
      "mean     0.02\n",
      "std      0.12\n",
      "min      0.00\n",
      "25%      0.01\n",
      "50%      0.01\n",
      "75%      0.02\n",
      "max     23.98\n",
      "Name: value, dtype: float64\n",
      "0.0610512460884119\n",
      "0.17786455978862215\n"
     ]
    },
    {
     "name": "stderr",
     "output_type": "stream",
     "text": [
      "/var/folders/mf/lxpn1ltx7t97r1v1k92vly1w0000gn/T/ipykernel_99915/2844635042.py:12: SettingWithCopyWarning: \n",
      "A value is trying to be set on a copy of a slice from a DataFrame.\n",
      "Try using .loc[row_indexer,col_indexer] = value instead\n",
      "\n",
      "See the caveats in the documentation: https://pandas.pydata.org/pandas-docs/stable/user_guide/indexing.html#returning-a-view-versus-a-copy\n",
      "  eigenphi_bids['value'] = pd.to_numeric(eigenphi_bids['value'], errors='coerce')\n"
     ]
    }
   ],
   "source": [
    "from data_prep_utils import *\n",
    "from plot_prep_utils import *\n",
    "\n",
    "pd.set_option('display.float_format', lambda x: '%.2f' % x)\n",
    "\n",
    "df_builder = get_builder_info_from_latest_TLDR_talk()\n",
    "df_eigenphi_builder = df_builder[df_builder['builder_label'] == 'EigenPhi']\n",
    "\n",
    "eigenphi_bids = all_data[all_data['builder_pubkey'].isin(df_eigenphi_builder['builder_pubkey'])]\n",
    "\n",
    "\n",
    "eigenphi_bids['value'] = pd.to_numeric(eigenphi_bids['value'], errors='coerce')\n",
    "print(eigenphi_bids.shape[0])\n",
    "print(eigenphi_bids['value'].describe()/10**18)\n",
    "percentile_95 = eigenphi_bids['value'].quantile(0.95)\n",
    "print(percentile_95/10**18)\n",
    "percentile_99 = eigenphi_bids['value'].quantile(0.99)\n",
    "print(percentile_99/10**18)"
   ]
  },
  {
   "cell_type": "code",
   "execution_count": null,
   "metadata": {},
   "outputs": [],
   "source": []
  }
 ],
 "metadata": {
  "kernelspec": {
   "display_name": ".venv",
   "language": "python",
   "name": "python3"
  },
  "language_info": {
   "codemirror_mode": {
    "name": "ipython",
    "version": 3
   },
   "file_extension": ".py",
   "mimetype": "text/x-python",
   "name": "python",
   "nbconvert_exporter": "python",
   "pygments_lexer": "ipython3",
   "version": "3.12.2"
  }
 },
 "nbformat": 4,
 "nbformat_minor": 2
}
