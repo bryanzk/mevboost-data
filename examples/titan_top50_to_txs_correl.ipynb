{
 "cells": [
  {
   "cell_type": "code",
   "execution_count": 7,
   "metadata": {},
   "outputs": [
    {
     "name": "stderr",
     "output_type": "stream",
     "text": [
      "/Users/kezheng/temp/mevboost-data/.venv/lib/python3.12/site-packages/numpy/lib/function_base.py:2889: RuntimeWarning: Degrees of freedom <= 0 for slice\n",
      "  c = cov(x, y, rowvar, dtype=dtype)\n",
      "/Users/kezheng/temp/mevboost-data/.venv/lib/python3.12/site-packages/numpy/lib/function_base.py:2748: RuntimeWarning: divide by zero encountered in divide\n",
      "  c *= np.true_divide(1, fact)\n",
      "/Users/kezheng/temp/mevboost-data/.venv/lib/python3.12/site-packages/numpy/lib/function_base.py:2748: RuntimeWarning: invalid value encountered in multiply\n",
      "  c *= np.true_divide(1, fact)\n",
      "/var/folders/mf/lxpn1ltx7t97r1v1k92vly1w0000gn/T/ipykernel_88839/2549147118.py:19: DeprecationWarning: DataFrameGroupBy.apply operated on the grouping columns. This behavior is deprecated, and in a future version of pandas the grouping columns will be excluded from the operation. Either pass `include_groups=False` to exclude the groupings or explicitly select the grouping columns after groupby to silence this warning.\n",
      "  correlations_and_counts = df.groupby('Unified TX Categories').apply(calc_corr_and_count)\n",
      "/Users/kezheng/temp/mevboost-data/.venv/lib/python3.12/site-packages/numpy/lib/function_base.py:2889: RuntimeWarning: Degrees of freedom <= 0 for slice\n",
      "  c = cov(x, y, rowvar, dtype=dtype)\n",
      "/Users/kezheng/temp/mevboost-data/.venv/lib/python3.12/site-packages/numpy/lib/function_base.py:2748: RuntimeWarning: divide by zero encountered in divide\n",
      "  c *= np.true_divide(1, fact)\n",
      "/Users/kezheng/temp/mevboost-data/.venv/lib/python3.12/site-packages/numpy/lib/function_base.py:2748: RuntimeWarning: invalid value encountered in multiply\n",
      "  c *= np.true_divide(1, fact)\n",
      "/var/folders/mf/lxpn1ltx7t97r1v1k92vly1w0000gn/T/ipykernel_88839/2549147118.py:19: DeprecationWarning: DataFrameGroupBy.apply operated on the grouping columns. This behavior is deprecated, and in a future version of pandas the grouping columns will be excluded from the operation. Either pass `include_groups=False` to exclude the groupings or explicitly select the grouping columns after groupby to silence this warning.\n",
      "  correlations_and_counts = df.groupby('Unified TX Categories').apply(calc_corr_and_count)\n"
     ]
    }
   ],
   "source": [
    "import pandas as pd\n",
    "import numpy as np\n",
    "\n",
    "# 自定义函数来进行相关性计算和计数\n",
    "def calc_corr_and_count(group_df):\n",
    "    correlation = group_df['Block POS'].corr(group_df['builder_reward'])\n",
    "    count = len(group_df)  # 计算每个分类的行数\n",
    "    return pd.Series({\n",
    "    'Correlation': correlation,\n",
    "    'Count': count,  # 新增行数统计\n",
    "    'Subtotal Reawrd': group_df['builder_reward'].sum()  # 新增总和统计\n",
    "})\n",
    "\n",
    "\n",
    "def generate_correlations_and_counts(csv_input, csv_output):\n",
    "    df = pd.read_csv(csv_input)  # 替换为你的文件路径\n",
    "    df = df.dropna(subset=['Block POS', 'builder_reward'])  # 删除这两列中含有 NaN 的行\n",
    "    # 按 `Unified Tx Category` 分组，应用自定义函数：\n",
    "    correlations_and_counts = df.groupby('Unified TX Categories').apply(calc_corr_and_count)\n",
    "    correlations_and_counts.to_csv(csv_output)\n",
    "\n",
    "# generate_correlations_and_counts('TxsAll.csv', 'all_correl.csv')  \n",
    "generate_correlations_and_counts('TxsMED.csv', 'MED_correl.csv')  \n",
    "generate_correlations_and_counts('TxsAVG.csv', 'AVG_correl.csv')  \n",
    "\n"
   ]
  }
 ],
 "metadata": {
  "kernelspec": {
   "display_name": ".venv",
   "language": "python",
   "name": "python3"
  },
  "language_info": {
   "codemirror_mode": {
    "name": "ipython",
    "version": 3
   },
   "file_extension": ".py",
   "mimetype": "text/x-python",
   "name": "python",
   "nbconvert_exporter": "python",
   "pygments_lexer": "ipython3",
   "version": "3.12.2"
  }
 },
 "nbformat": 4,
 "nbformat_minor": 2
}
