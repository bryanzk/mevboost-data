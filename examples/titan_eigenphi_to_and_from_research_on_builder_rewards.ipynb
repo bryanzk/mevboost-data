{
 "cells": [
  {
   "cell_type": "code",
   "execution_count": 2,
   "metadata": {},
   "outputs": [],
   "source": [
    "from data_prep_utils import *\n",
    "from plot_prep_utils import *\n",
    "import pandas as pd\n",
    "\n",
    "df_all = get_raw_block_data_with_winning_bids()\n",
    "dfe = get_eigenphi_march_blocks_with_to_and_from()\n",
    "dft = get_titan_march_blocks_with_to_and_from()"
   ]
  },
  {
   "cell_type": "code",
   "execution_count": 3,
   "metadata": {},
   "outputs": [
    {
     "name": "stdout",
     "output_type": "stream",
     "text": [
      "8306886\n"
     ]
    }
   ],
   "source": [
    "print(dft.shape[0])\n"
   ]
  },
  {
   "cell_type": "code",
   "execution_count": 6,
   "metadata": {},
   "outputs": [
    {
     "name": "stdout",
     "output_type": "stream",
     "text": [
      "8306886\n",
      "<bound method NDFrame.head of                                           transaction_hash  block_number  \\\n",
      "0        0x0005a8f24d9b02a01c138b2917c07e65bb531a889891...      19339077   \n",
      "1        0x00120fdeb1a37a89bf0b6ff6a725827e532e20132e00...      19339085   \n",
      "2        0x002922ee2df0eec3144d1f59d18c5d66780bb171bd67...      19339027   \n",
      "3        0x0066758e9decf152a045d6ac223cc39b9c1610a6340f...      19339031   \n",
      "4        0x006731de31cfd54e3e36fb94f8e0b15d4d9424b44b51...      19339020   \n",
      "...                                                    ...           ...   \n",
      "8306881  0xff198731dda378ef8d5e7c4da11e49dc99bd9004015a...      19557274   \n",
      "8306882  0xff3089907407feeb49150dbd0b0545f2305a9bbcbed6...      19557278   \n",
      "8306883  0xff349681e982901d4767ca14cce7adc400eae3717472...      19557275   \n",
      "8306884  0xffa0dd4fca6094e0d853a2e83bdfda43509969e2c546...      19557278   \n",
      "8306885  0xffe6532e94a3e4cf88848c07da08d44b35b8b10b80a2...      19557275   \n",
      "\n",
      "         builder_reward  ethusd_price  \\\n",
      "0                     0           NaN   \n",
      "1                     0           NaN   \n",
      "2                     0           NaN   \n",
      "3                     0           NaN   \n",
      "4                     0           NaN   \n",
      "...                 ...           ...   \n",
      "8306881               0           NaN   \n",
      "8306882               0           NaN   \n",
      "8306883               0           NaN   \n",
      "8306884               0           NaN   \n",
      "8306885               0           NaN   \n",
      "\n",
      "                                       from_address  \\\n",
      "0        0x3170ae5782748d3f464e719a9370d41500092c09   \n",
      "1        0xf368cf3c3a556cd3dbde26e93f7feb8f2d0ead87   \n",
      "2        0xc5a93444cc4da6efb9e6fc6e5d3cb55a53b52396   \n",
      "3        0xfca72f215c33ee3121af6818e4e8522e6383b49a   \n",
      "4        0x8814fec49bfa38c49a93a8c0c431394b4008f106   \n",
      "...                                             ...   \n",
      "8306881  0x808d0aee8db7e7c74faf4b264333afe8c9ccdba4   \n",
      "8306882  0xc76ebabf2389cea2c57559f4896e1006faa7b94f   \n",
      "8306883  0x6ece176277feccfab599e6833d900d9a6e27f427   \n",
      "8306884  0x58edf78281334335effa23101bbe3371b6a36a51   \n",
      "8306885  0x547ac08a9adb39f16af4be456b3ccbef0ff833eb   \n",
      "\n",
      "                                         to_address  \n",
      "0        0x15e6e0d4ebeac120f9a97e71faa6a0235b85ed12  \n",
      "1        0x305eb7c6e3491956da42d0062f04bbc9381d9c77  \n",
      "2        0x257af24f95f42162f5866e93028aa8940d5b288e  \n",
      "3        0x0ec68c5b10f21effb74f2a5c61dfe6b08c0db6cb  \n",
      "4        0xdac17f958d2ee523a2206206994597c13d831ec7  \n",
      "...                                             ...  \n",
      "8306881  0xa3a9dc95489ccefb93c506963b105bc65b288735  \n",
      "8306882  0xf3de3c0d654fda23dad170f0f320a92172509127  \n",
      "8306883  0x3fc91a3afd70395cd496c647d5a6cc9d4b2b7fad  \n",
      "8306884  0x8b9b95292f890df47fff5ac9cbe93d5fc242bd51  \n",
      "8306885  0x3fc91a3afd70395cd496c647d5a6cc9d4b2b7fad  \n",
      "\n",
      "[8306886 rows x 6 columns]>\n",
      "8306886\n",
      "<bound method NDFrame.head of                                           transaction_hash  block_number  \\\n",
      "0        0x0005a8f24d9b02a01c138b2917c07e65bb531a889891...      19339077   \n",
      "1        0x00120fdeb1a37a89bf0b6ff6a725827e532e20132e00...      19339085   \n",
      "2        0x002922ee2df0eec3144d1f59d18c5d66780bb171bd67...      19339027   \n",
      "3        0x0066758e9decf152a045d6ac223cc39b9c1610a6340f...      19339031   \n",
      "4        0x006731de31cfd54e3e36fb94f8e0b15d4d9424b44b51...      19339020   \n",
      "...                                                    ...           ...   \n",
      "8306881  0xff198731dda378ef8d5e7c4da11e49dc99bd9004015a...      19557274   \n",
      "8306882  0xff3089907407feeb49150dbd0b0545f2305a9bbcbed6...      19557278   \n",
      "8306883  0xff349681e982901d4767ca14cce7adc400eae3717472...      19557275   \n",
      "8306884  0xffa0dd4fca6094e0d853a2e83bdfda43509969e2c546...      19557278   \n",
      "8306885  0xffe6532e94a3e4cf88848c07da08d44b35b8b10b80a2...      19557275   \n",
      "\n",
      "         builder_reward  ethusd_price  \\\n",
      "0                     0           NaN   \n",
      "1                     0           NaN   \n",
      "2                     0           NaN   \n",
      "3                     0           NaN   \n",
      "4                     0           NaN   \n",
      "...                 ...           ...   \n",
      "8306881               0           NaN   \n",
      "8306882               0           NaN   \n",
      "8306883               0           NaN   \n",
      "8306884               0           NaN   \n",
      "8306885               0           NaN   \n",
      "\n",
      "                                       from_address  \\\n",
      "0        0x3170ae5782748d3f464e719a9370d41500092c09   \n",
      "1        0xf368cf3c3a556cd3dbde26e93f7feb8f2d0ead87   \n",
      "2        0xc5a93444cc4da6efb9e6fc6e5d3cb55a53b52396   \n",
      "3        0xfca72f215c33ee3121af6818e4e8522e6383b49a   \n",
      "4        0x8814fec49bfa38c49a93a8c0c431394b4008f106   \n",
      "...                                             ...   \n",
      "8306881  0x808d0aee8db7e7c74faf4b264333afe8c9ccdba4   \n",
      "8306882  0xc76ebabf2389cea2c57559f4896e1006faa7b94f   \n",
      "8306883  0x6ece176277feccfab599e6833d900d9a6e27f427   \n",
      "8306884  0x58edf78281334335effa23101bbe3371b6a36a51   \n",
      "8306885  0x547ac08a9adb39f16af4be456b3ccbef0ff833eb   \n",
      "\n",
      "                                         to_address      block_datetime  \n",
      "0        0x15e6e0d4ebeac120f9a97e71faa6a0235b85ed12 2024-03-01 08:17:11  \n",
      "1        0x305eb7c6e3491956da42d0062f04bbc9381d9c77 2024-03-01 08:18:47  \n",
      "2        0x257af24f95f42162f5866e93028aa8940d5b288e 2024-03-01 08:07:11  \n",
      "3        0x0ec68c5b10f21effb74f2a5c61dfe6b08c0db6cb 2024-03-01 08:07:59  \n",
      "4        0xdac17f958d2ee523a2206206994597c13d831ec7 2024-03-01 08:05:47  \n",
      "...                                             ...                 ...  \n",
      "8306881  0xa3a9dc95489ccefb93c506963b105bc65b288735 2024-03-31 23:57:11  \n",
      "8306882  0xf3de3c0d654fda23dad170f0f320a92172509127 2024-03-31 23:57:59  \n",
      "8306883  0x3fc91a3afd70395cd496c647d5a6cc9d4b2b7fad 2024-03-31 23:57:23  \n",
      "8306884  0x8b9b95292f890df47fff5ac9cbe93d5fc242bd51 2024-03-31 23:57:59  \n",
      "8306885  0x3fc91a3afd70395cd496c647d5a6cc9d4b2b7fad 2024-03-31 23:57:23  \n",
      "\n",
      "[8306886 rows x 7 columns]>\n"
     ]
    }
   ],
   "source": [
    "# add block_datetime to dft\n",
    "df_all_date = df_all[['block_datetime', 'block_number']]\n",
    "\n",
    "print(dft.shape[0])\n",
    "print(dft.head)\n",
    "dft_withdatetime = pd.merge(dft, df_all_date, on='block_number', how='inner')\n",
    "dft_withdatetime['block_datetime'] = pd.to_datetime(dft_withdatetime['block_datetime'])\n",
    "\n",
    "print(dft_withdatetime.shape[0])\n",
    "print(dft_withdatetime.head)"
   ]
  },
  {
   "cell_type": "markdown",
   "metadata": {},
   "source": [
    "print(dft.columns)"
   ]
  },
  {
   "cell_type": "code",
   "execution_count": 38,
   "metadata": {},
   "outputs": [
    {
     "name": "stdout",
     "output_type": "stream",
     "text": [
      "Total Builder Rewards for JIT: 13.738386237669292\n",
      "232\n",
      "                                 from_address  record_count\n",
      "0  0x87821c430310e33ad202a20966f340520651b05b            42\n",
      "1  0x94bf3e48c611c81a28eac84537d247b40c3eb1b7            74\n",
      "2  0xb25adfa5a81f99f11cfe50468c5fc799696fe79e            42\n",
      "3  0xefae7395c20eb28f4f9810e8688a5ea79e1e24ed            74\n",
      "                                 from_address  BP_subtotal\n",
      "0  0x87821c430310e33ad202a20966f340520651b05b            0\n",
      "1  0x94bf3e48c611c81a28eac84537d247b40c3eb1b7            0\n",
      "2  0xb25adfa5a81f99f11cfe50468c5fc799696fe79e            0\n",
      "3  0xefae7395c20eb28f4f9810e8688a5ea79e1e24ed           13\n",
      "13.461300424956624\n"
     ]
    }
   ],
   "source": [
    "import matplotlib.pyplot as plt\n",
    "import numpy as np\n",
    "\n",
    "#summarize dft's builder rewards by to_address = \"0xb0000000aa4f00af1200c8b2befb6300853f0069\"\n",
    "jit_dt = dft_withdatetime[dft_withdatetime['to_address'] == \"0xb0000000aa4f00af1200c8b2befb6300853f0069\"]\n",
    "jit_BP = jit_dt['builder_reward'].sum()\n",
    "print(f\"Total Builder Rewards for JIT: {jit_BP}\")\n",
    "\n",
    "print(jit_dt.shape[0])\n",
    "# Group by 'from_address' and count the records for each group\n",
    "record_counts = jit_dt.groupby('from_address').size().reset_index(name='record_count')\n",
    "bp_subtotal = jit_dt.groupby('from_address')['builder_reward'].sum().reset_index(name='BP_subtotal')\n",
    "bp_subtotal['BP_subtotal'] = bp_subtotal['BP_subtotal'].round(4)\n",
    "\n",
    "\n",
    "# Print the result\n",
    "print(record_counts)\n",
    "print(bp_subtotal)\n",
    "jit_non_zero_dt = jit_dt[jit_dt['builder_reward'] > 0]\n",
    "jit_non_zero_dt = jit_non_zero_dt[jit_non_zero_dt['from_address']==\"0xefae7395c20eb28f4f9810e8688a5ea79e1e24ed\"]\n",
    "print(jit_non_zero_dt[\"builder_reward\"].sum())\n",
    "# print(jit_non_zero_dt[\"from_address\"].unique())\n",
    "\n"
   ]
  },
  {
   "cell_type": "code",
   "execution_count": null,
   "metadata": {},
   "outputs": [],
   "source": [
    "#plot jit_dt's builder rewards by from_address\n",
    "\n",
    "# Assuming `df` is your DataFrame and you want to plot `ethusd_price` vs `block_number`\n",
    "plt.figure(figsize=(10, 6))\n",
    "jit_dt['block_date'] = jit_dt['block_datetime'].dt.date\n",
    "jit_dt['ln_builder_reward'] = np.log(jit_dt['builder_reward'])\n",
    "\n",
    "\n",
    "\n",
    "\n",
    "for address in jit_dt['from_address'].unique():\n",
    "    subset = jit_dt[jit_dt['from_address'] == address]\n",
    "    plt.scatter(subset['block_date'], subset['ln_builder_reward'], label=address, alpha=0.5)\n",
    "\n",
    "plt.xlabel('Block Date')\n",
    "plt.ylabel('ln(Builder Reward)')\n",
    "plt.title('Scatter Plot by From Address (Date-based, Logarithmic Builder Reward)')\n",
    "plt.legend(title='From Address', bbox_to_anchor=(1.05, 1), loc='upper left')\n",
    "plt.xticks(rotation=45)\n",
    "plt.show()"
   ]
  },
  {
   "cell_type": "code",
   "execution_count": 3,
   "metadata": {},
   "outputs": [
    {
     "name": "stdout",
     "output_type": "stream",
     "text": [
      "5842\n",
      "7802\n",
      "1682447\n",
      "2760243\n"
     ]
    }
   ],
   "source": [
    "print(len(dfe[\"to_address\"].unique()))\n",
    "print(len(dfe[\"from_address\"].unique()))\n",
    "print(len(dft[\"to_address\"].unique()))\n",
    "print(len(dft[\"from_address\"].unique()))\n",
    "\n"
   ]
  },
  {
   "cell_type": "code",
   "execution_count": 4,
   "metadata": {},
   "outputs": [],
   "source": [
    "\n",
    "\n",
    "def get_top_rewards(df, address_type, output_file):\n",
    "    \"\"\"\n",
    "    Processes rewards data to return the top 50 addresses and optionally saves it to a CSV file.\n",
    "    \n",
    "    Args:\n",
    "    df (pd.DataFrame): DataFrame containing the transaction data.\n",
    "    address_type (str): 'to_address' or 'from_address' for reward aggregation.\n",
    "    \n",
    "    Returns:\n",
    "    pd.DataFrame: DataFrame holding the top 50 addresses sorted by rewards.\n",
    "    \"\"\"\n",
    "    if address_type not in ['to_address', 'from_address']:\n",
    "        raise ValueError(\"address_type must be 'to_address' or 'from_address'\")\n",
    "\n",
    "    subtotal_df = df.groupby(address_type)[\"builder_reward\"].sum().reset_index()\n",
    "    subtotal_df[\"builder_reward\"] = subtotal_df[\"builder_reward\"].astype(float)\n",
    "    sorted_df = subtotal_df.sort_values(\"builder_reward\", ascending=False).head(50)\n",
    "\n",
    "    if output_file:\n",
    "        sorted_df.to_csv(output_file, index=False)\n",
    "        print(f\"DataFrame exported to {output_file}\")\n",
    "\n",
    "    return sorted_df\n"
   ]
  },
  {
   "cell_type": "code",
   "execution_count": 5,
   "metadata": {},
   "outputs": [
    {
     "name": "stdout",
     "output_type": "stream",
     "text": [
      "DataFrame exported to top_50_titan_rewards_from.csv\n",
      "DataFrame exported to top_50_titan_rewards_to.csv\n",
      "DataFrame exported to top_50_eigenphi_rewards_from.csv\n",
      "DataFrame exported to top_50_eigenphi_rewards_to.csv\n"
     ]
    }
   ],
   "source": [
    "top50_subtotal_from_dft = get_top_rewards(dft, 'from_address', 'top_50_titan_rewards_from.csv')\n",
    "top50_subtotal_to_dft = get_top_rewards(dft, 'to_address', 'top_50_titan_rewards_to.csv')\n",
    "top50_subtotal_from_dfe = get_top_rewards(dfe, 'from_address', 'top_50_eigenphi_rewards_from.csv')   \n",
    "top50_subtotal_to_dfe = get_top_rewards(dfe, 'to_address', 'top_50_eigenphi_rewards_to.csv')\n"
   ]
  },
  {
   "cell_type": "code",
   "execution_count": 6,
   "metadata": {},
   "outputs": [
    {
     "name": "stdout",
     "output_type": "stream",
     "text": [
      "Common from_address between datasets:\n",
      "Common to_address between datasets:\n"
     ]
    }
   ],
   "source": [
    "import pandas as pd\n",
    "\n",
    "def find_common_addresses(df1, df2, address_column, output_file):\n",
    "    \"\"\"\n",
    "    Finds common addresses between two datasets and saves the result to a CSV file.\n",
    "\n",
    "    Args:\n",
    "        df1 (pd.DataFrame): First dataset containing addresses.\n",
    "        df2 (pd.DataFrame): Second dataset containing addresses.\n",
    "        address_column (str): The name of the column to merge on ('from_address' or 'to_address').\n",
    "        output_file (str): The filename for the output CSV.\n",
    "    \"\"\"\n",
    "    # Merging on specified address column\n",
    "    common_addresses = pd.merge(df1, df2, on=address_column)\n",
    "    print(f\"Common {address_column} between datasets:\")\n",
    "    # print(common_addresses)\n",
    "\n",
    "    # Save to CSV\n",
    "    common_addresses.to_csv(output_file, index=False)\n",
    "    # print(f\"DataFrame exported to {output_file}\")\n",
    "\n",
    "# Assuming subtotal_from_dft, subtotal_from_dfe, subtotal_to_dft, and subtotal_to_dfe are already defined:\n",
    "\n",
    "# Find common from_addresses between EigenPhi and Titan\n",
    "find_common_addresses(top50_subtotal_from_dft, top50_subtotal_from_dfe, 'from_address', 'common_from_addresses.csv')\n",
    "\n",
    "# Find common to_addresses between EigenPhi and Titan\n",
    "find_common_addresses(top50_subtotal_to_dft, top50_subtotal_to_dfe, 'to_address', 'common_to_addresses.csv')\n"
   ]
  },
  {
   "cell_type": "code",
   "execution_count": 7,
   "metadata": {},
   "outputs": [],
   "source": [
    "# find uncommon addresses between EigenPhi and Titan\n",
    "import pandas as pd\n",
    "\n",
    "def find_uncommon_addresses(df1, df2, address_column, eigenphi_output_file, titan_output_file):\n",
    "    \"\"\"\n",
    "    Finds uncommon addresses between two datasets and saves the result to a CSV file.\n",
    "\n",
    "    Args:\n",
    "        df1 (pd.DataFrame): First dataset containing addresses.\n",
    "        df2 (pd.DataFrame): Second dataset containing addresses.\n",
    "        address_column (str): The name of the column to merge on ('from_address' or 'to_address').\n",
    "        output_file (str): The filename for the output CSV.\n",
    "    \"\"\"\n",
    "    # Assuming subtotal_from_dft and subtotal_from_dfe are already defined DataFrame from previous steps:\n",
    "    # Perform an outer join merge\n",
    "    all_addresses = pd.merge(df1, df2, on=address_column, how='outer', indicator=True)\n",
    "    \n",
    "    # Filter results to get non-overlapping addresses\n",
    "    uncommon_addresses = all_addresses[all_addresses['_merge'] != 'both']\n",
    "    \n",
    "    \n",
    "    # pd.merge adds a column '_merge' that indicates from which DataFrame the rows come from:\n",
    "    # \"left_only\" for EigenPhi, \"right_only\" for Titan, and \"both\" for common.\n",
    "\n",
    "    # Optionally, split into two DataFrames depending on source\n",
    "    uncommon_eigenphi = uncommon_addresses[uncommon_addresses['_merge'] == 'left_only']\n",
    "    uncommon_titan = uncommon_addresses[uncommon_addresses['_merge'] == 'right_only']\n",
    "\n",
    "    uncommon_eigenphi[[address_column]].to_csv(eigenphi_output_file, index=False)\n",
    "    uncommon_titan[[address_column]].to_csv(titan_output_file, index=False)\n",
    "    \n",
    "    \n",
    "# Find uncommon from_addresses between EigenPhi and Titan\n",
    "find_uncommon_addresses(top50_subtotal_from_dfe, top50_subtotal_from_dft, 'from_address', 'uncommon_from_addresses_eigenphi.csv', 'uncommon_from_addresses_titan.csv')\n",
    "\n",
    "\n",
    "# Find uncommon to_addresses between EigenPhi and Titan\n",
    "find_uncommon_addresses(top50_subtotal_to_dfe, top50_subtotal_to_dft, 'to_address', 'uncommon_to_addresses_eigenphi.csv', 'uncommon_to_addresses_titan.csv')\n"
   ]
  },
  {
   "cell_type": "code",
   "execution_count": 9,
   "metadata": {},
   "outputs": [
    {
     "name": "stderr",
     "output_type": "stream",
     "text": [
      "/var/folders/mf/lxpn1ltx7t97r1v1k92vly1w0000gn/T/ipykernel_13950/1382655531.py:14: DeprecationWarning: DataFrameGroupBy.apply operated on the grouping columns. This behavior is deprecated, and in a future version of pandas the grouping columns will be excluded from the operation. Either pass `include_groups=False` to exclude the groupings or explicitly select the grouping columns after groupby to silence this warning.\n",
      "  contract_df = contract_df.groupby(\"to_address\").apply(lambda x: x.nlargest(50, \"builder_reward\")).reset_index(drop=True)\n"
     ]
    }
   ],
   "source": [
    "address_list = [\"0x6f1cdbbb4d53d226cf4b917bf768b94acbab6168\",\n",
    "\"0xc6fecdf760af24095cded954de7d81ab49f8bae1\",\n",
    "\"0x98c3d3183c4b8a650614ad179a1a98be0a8d6b8e\",\n",
    "\"0xfbeedcfe378866dab6abbafd8b2986f5c1768737\",\n",
    "\"0x73a8a6f5d9762ea5f1de193ec19cdf476c7e86b1\",\n",
    "\"0x0000000000a84d1a9b0063a910315c7ffa9cd248\",\n",
    "\"0x0000e0ca771e21bd00057f54a68c30d400000000\",\n",
    "\"0x24902aa0cf0000a08c0ea0b003b0c0bf600000e0\",\n",
    "\"0x53facee52e897740b140f5304e9cd9dc6238d735\",\n",
    "\"0xd4674001a9a66b31f3c09e3b1fec465404c83d35\",]\n",
    "\n",
    "contract_df = dft[dft[\"to_address\"].isin(address_list)]\n",
    "\n",
    "contract_df = contract_df.groupby(\"to_address\").apply(lambda x: x.nlargest(50, \"builder_reward\")).reset_index(drop=True)\n",
    "\n",
    "contract_df.to_csv(\"left.csv\", index=False)\n",
    "\n"
   ]
  },
  {
   "cell_type": "code",
   "execution_count": null,
   "metadata": {},
   "outputs": [],
   "source": []
  }
 ],
 "metadata": {
  "kernelspec": {
   "display_name": ".venv",
   "language": "python",
   "name": "python3"
  },
  "language_info": {
   "codemirror_mode": {
    "name": "ipython",
    "version": 3
   },
   "file_extension": ".py",
   "mimetype": "text/x-python",
   "name": "python",
   "nbconvert_exporter": "python",
   "pygments_lexer": "ipython3",
   "version": "3.12.2"
  }
 },
 "nbformat": 4,
 "nbformat_minor": 2
}
