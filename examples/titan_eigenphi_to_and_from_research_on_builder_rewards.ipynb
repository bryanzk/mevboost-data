{
 "cells": [
  {
   "cell_type": "code",
   "execution_count": 1,
   "metadata": {},
   "outputs": [],
   "source": [
    "from data_prep_utils import *\n",
    "from plot_prep_utils import *\n",
    "import pandas as pd\n",
    "\n",
    "dfe = get_eigenphi_march_blocks_with_to_and_from()\n",
    "dft = get_titan_march_blocks_with_to_and_from()"
   ]
  },
  {
   "cell_type": "code",
   "execution_count": 18,
   "metadata": {},
   "outputs": [],
   "source": [
    "\n",
    "\n",
    "def get_top_rewards(df, address_type, output_file):\n",
    "    \"\"\"\n",
    "    Processes rewards data to return the top 50 addresses and optionally saves it to a CSV file.\n",
    "    \n",
    "    Args:\n",
    "    df (pd.DataFrame): DataFrame containing the transaction data.\n",
    "    address_type (str): 'to_address' or 'from_address' for reward aggregation.\n",
    "    \n",
    "    Returns:\n",
    "    pd.DataFrame: DataFrame holding the top 50 addresses sorted by rewards.\n",
    "    \"\"\"\n",
    "    if address_type not in ['to_address', 'from_address']:\n",
    "        raise ValueError(\"address_type must be 'to_address' or 'from_address'\")\n",
    "\n",
    "    subtotal_df = df.groupby(address_type)[\"builder_reward\"].sum().reset_index()\n",
    "    subtotal_df[\"builder_reward\"] = subtotal_df[\"builder_reward\"].astype(float)\n",
    "    sorted_df = subtotal_df.sort_values(\"builder_reward\", ascending=False).head(50)\n",
    "\n",
    "    if output_file:\n",
    "        sorted_df.to_csv(output_file, index=False)\n",
    "        print(f\"DataFrame exported to {output_file}\")\n",
    "\n",
    "    return sorted_df\n"
   ]
  },
  {
   "cell_type": "code",
   "execution_count": 19,
   "metadata": {},
   "outputs": [
    {
     "name": "stdout",
     "output_type": "stream",
     "text": [
      "DataFrame exported to top_50_titan_rewards_from.csv\n",
      "DataFrame exported to top_50_titan_rewards_to.csv\n",
      "DataFrame exported to top_50_eigenphi_rewards_from.csv\n",
      "DataFrame exported to top_50_eigenphi_rewards_to.csv\n"
     ]
    }
   ],
   "source": [
    "subtotal_from_dft = get_top_rewards(dft, 'from_address', 'top_50_titan_rewards_from.csv')\n",
    "subtotal_to_dft = get_top_rewards(dft, 'to_address', 'top_50_titan_rewards_to.csv')\n",
    "subtotal_from_dfe = get_top_rewards(dfe, 'from_address', 'top_50_eigenphi_rewards_from.csv')   \n",
    "subtotal_to_dfe = get_top_rewards(dfe, 'to_address', 'top_50_eigenphi_rewards_to.csv')\n"
   ]
  },
  {
   "cell_type": "code",
   "execution_count": 21,
   "metadata": {},
   "outputs": [
    {
     "name": "stdout",
     "output_type": "stream",
     "text": [
      "Common from_address between datasets:\n",
      "                                 from_address  builder_reward_x  \\\n",
      "0  0xfc9928f6590d853752824b0b403a6ae36785e535                45   \n",
      "1  0xe75ed6f453c602bd696ce27af11565edc9b46b0d                43   \n",
      "2  0x75e89d5979e4f6fba9f97c104c2f0afb3f1dcb88                35   \n",
      "3  0x8ef57238cd4178eed96cd30a13cbc7448925328e                25   \n",
      "4  0x315d2ee4fccda0def532ef4108ff57204f8d9eba                19   \n",
      "5  0x3527439923a63f8c13cf72b8fe80a77f6e572092                15   \n",
      "\n",
      "   builder_reward_y  \n",
      "0                 1  \n",
      "1                 1  \n",
      "2                 0  \n",
      "3                 3  \n",
      "4                 0  \n",
      "5                 0  \n",
      "DataFrame exported to common_from_addresses.csv\n",
      "Common to_address between datasets:\n",
      "                                    to_address  builder_reward_x  \\\n",
      "0   0x80a64c6d7f12c47b7c66c5b4e20e72bc1fcd5d9e               251   \n",
      "1   0x7a250d5630b4cf539739df2c5dacb4c659f2488d               112   \n",
      "2   0xdac17f958d2ee523a2206206994597c13d831ec7               101   \n",
      "3   0x3fc91a3afd70395cd496c647d5a6cc9d4b2b7fad                94   \n",
      "4   0x00000000009e50a7ddb7a7b0e2ee6604fd120e49                88   \n",
      "5   0xe592427a0aece92de3edee1f18e0157c05861564                52   \n",
      "6   0x000000d40b595b94918a28b27d1e2c66f43a51d3                38   \n",
      "7   0xf3de3c0d654fda23dad170f0f320a92172509127                28   \n",
      "8   0x00000023c10000eecb940000b914cdfd76cc83d1                25   \n",
      "9   0x1111111254eeb25477b68fb85ed929f73a960582                22   \n",
      "10  0x73a8a6f5d9762ea5f1de193ec19cdf476c7e86b1                21   \n",
      "11  0xa0b86991c6218b36c1d19d4a2e9eb0ce3606eb48                20   \n",
      "12  0x738e79fbc9010521763944ddf13aad7f61502221                19   \n",
      "13  0x24902aa0cf0000a08c0ea0b003b0c0bf600000e0                16   \n",
      "14  0xa0425d71cb1d6fb80e65a5361a04096e0672de03                13   \n",
      "\n",
      "    builder_reward_y  \n",
      "0                  0  \n",
      "1                  0  \n",
      "2                  1  \n",
      "3                  0  \n",
      "4                  2  \n",
      "5                  0  \n",
      "6                  0  \n",
      "7                  0  \n",
      "8                  3  \n",
      "9                  0  \n",
      "10                 0  \n",
      "11                 0  \n",
      "12                 0  \n",
      "13                 0  \n",
      "14                 0  \n",
      "DataFrame exported to common_to_addresses.csv\n"
     ]
    }
   ],
   "source": [
    "import pandas as pd\n",
    "\n",
    "def find_common_addresses(df1, df2, address_column, output_file):\n",
    "    \"\"\"\n",
    "    Finds common addresses between two datasets and saves the result to a CSV file.\n",
    "\n",
    "    Args:\n",
    "        df1 (pd.DataFrame): First dataset containing addresses.\n",
    "        df2 (pd.DataFrame): Second dataset containing addresses.\n",
    "        address_column (str): The name of the column to merge on ('from_address' or 'to_address').\n",
    "        output_file (str): The filename for the output CSV.\n",
    "    \"\"\"\n",
    "    # Merging on specified address column\n",
    "    common_addresses = pd.merge(df1, df2, on=address_column)\n",
    "    print(f\"Common {address_column} between datasets:\")\n",
    "    print(common_addresses)\n",
    "\n",
    "    # Save to CSV\n",
    "    common_addresses.to_csv(output_file, index=False)\n",
    "    print(f\"DataFrame exported to {output_file}\")\n",
    "\n",
    "# Assuming subtotal_from_dft, subtotal_from_dfe, subtotal_to_dft, and subtotal_to_dfe are already defined:\n",
    "\n",
    "# Find common from_addresses between EigenPhi and Titan\n",
    "find_common_addresses(subtotal_from_dft, subtotal_from_dfe, 'from_address', 'common_from_addresses.csv')\n",
    "\n",
    "# Find common to_addresses between EigenPhi and Titan\n",
    "find_common_addresses(subtotal_to_dft, subtotal_to_dfe, 'to_address', 'common_to_addresses.csv')\n"
   ]
  },
  {
   "cell_type": "code",
   "execution_count": 20,
   "metadata": {},
   "outputs": [
    {
     "name": "stdout",
     "output_type": "stream",
     "text": [
      "Common from_addresses between EigenPhi and Titan:\n",
      "                                 from_address  builder_reward_x  \\\n",
      "0  0xfc9928f6590d853752824b0b403a6ae36785e535                45   \n",
      "1  0xe75ed6f453c602bd696ce27af11565edc9b46b0d                43   \n",
      "2  0x75e89d5979e4f6fba9f97c104c2f0afb3f1dcb88                35   \n",
      "3  0x8ef57238cd4178eed96cd30a13cbc7448925328e                25   \n",
      "4  0x315d2ee4fccda0def532ef4108ff57204f8d9eba                19   \n",
      "5  0x3527439923a63f8c13cf72b8fe80a77f6e572092                15   \n",
      "\n",
      "   builder_reward_y  \n",
      "0                 1  \n",
      "1                 1  \n",
      "2                 0  \n",
      "3                 3  \n",
      "4                 0  \n",
      "5                 0  \n"
     ]
    }
   ],
   "source": [
    "# find out common from_addresses between EigenPhi and Titan\n",
    "common_from_addresses = pd.merge(subtotal_from_dft, subtotal_from_dfe, on=\"from_address\")\n",
    "print(\"Common from_addresses between EigenPhi and Titan:\")\n",
    "print(common_from_addresses)\n",
    "common_from_addresses.to_csv(\"common_from_addresses.csv\", index=False)\n",
    "\n",
    "# find out common to_addresses between EigenPhi and Titan\n",
    "common_from_addresses = pd.merge(subtotal_to_dft, subtotal_to_dfe, on=\"to_address\")\n",
    "print(\"Common to_addresses between EigenPhi and Titan:\")\n",
    "print(common_to_addresses)\n",
    "common_to_addresses.to_csv(\"common_to_addresses.csv\", index=False)"
   ]
  },
  {
   "cell_type": "code",
   "execution_count": null,
   "metadata": {},
   "outputs": [],
   "source": []
  }
 ],
 "metadata": {
  "kernelspec": {
   "display_name": ".venv",
   "language": "python",
   "name": "python3"
  },
  "language_info": {
   "codemirror_mode": {
    "name": "ipython",
    "version": 3
   },
   "file_extension": ".py",
   "mimetype": "text/x-python",
   "name": "python",
   "nbconvert_exporter": "python",
   "pygments_lexer": "ipython3",
   "version": "3.12.2"
  }
 },
 "nbformat": 4,
 "nbformat_minor": 2
}
