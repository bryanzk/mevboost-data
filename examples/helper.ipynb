{
 "cells": [
  {
   "cell_type": "code",
   "execution_count": 1,
   "metadata": {},
   "outputs": [],
   "source": [
    "import pandas as pd\n",
    "import pyarrow as pa\n",
    "import pyarrow.parquet as pq\n",
    "\n",
    "from data_prep_utils import *\n",
    "\n",
    "# dft = get_titan_won_921_blocks_bidding_data()\n",
    "# df_builder_info = get_builder_info()\n",
    "\n",
    "# csv_files = [\n",
    "#     \"builder_reward_titan_1.csv\",\n",
    "#     \"builder_reward_titan_2.csv\",\n",
    "#     \"builder_reward_titan_3.csv\",\n",
    "#     \"builder_reward_titan_4.csv\",\n",
    "#     \"builder_reward_titan_5.csv\"\n",
    "# ]\n",
    "\n",
    "# dataframes = []\n",
    "# for file in csv_files:\n",
    "#     df = pd.read_csv(file)\n",
    "#     dataframes.append(df)\n",
    "\n",
    "# combined_df = pd.concat(dataframes, ignore_index=True)\n",
    "# combined_df.to_parquet(\"titan_march_blocks_builder_rewards.parquet\")\n",
    "\n"
   ]
  },
  {
   "cell_type": "code",
   "execution_count": null,
   "metadata": {},
   "outputs": [],
   "source": []
  }
 ],
 "metadata": {
  "kernelspec": {
   "display_name": ".venv",
   "language": "python",
   "name": "python3"
  },
  "language_info": {
   "codemirror_mode": {
    "name": "ipython",
    "version": 3
   },
   "file_extension": ".py",
   "mimetype": "text/x-python",
   "name": "python",
   "nbconvert_exporter": "python",
   "pygments_lexer": "ipython3",
   "version": "3.12.2"
  }
 },
 "nbformat": 4,
 "nbformat_minor": 2
}
