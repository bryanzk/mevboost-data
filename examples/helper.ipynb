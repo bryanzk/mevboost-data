{
 "cells": [
  {
   "cell_type": "code",
   "execution_count": 2,
   "metadata": {},
   "outputs": [
    {
     "ename": "NameError",
     "evalue": "name 'get_block_data_with_winning_bids' is not defined",
     "output_type": "error",
     "traceback": [
      "\u001b[0;31m---------------------------------------------------------------------------\u001b[0m",
      "\u001b[0;31mNameError\u001b[0m                                 Traceback (most recent call last)",
      "Cell \u001b[0;32mIn[2], line 2\u001b[0m\n\u001b[1;32m      1\u001b[0m \u001b[38;5;28;01mfrom\u001b[39;00m \u001b[38;5;21;01mdata_prep_utils\u001b[39;00m \u001b[38;5;28;01mimport\u001b[39;00m \u001b[38;5;241m*\u001b[39m\n\u001b[0;32m----> 2\u001b[0m df \u001b[38;5;241m=\u001b[39m \u001b[43mget_block_data_with_winning_bids\u001b[49m()\n\u001b[1;32m      3\u001b[0m dft \u001b[38;5;241m=\u001b[39m get_titan_won_921_blocks_bidding_data()\n\u001b[1;32m      4\u001b[0m df_builder_info \u001b[38;5;241m=\u001b[39m get_builder_info()\n",
      "\u001b[0;31mNameError\u001b[0m: name 'get_block_data_with_winning_bids' is not defined"
     ]
    }
   ],
   "source": [
    "from data_prep_utils import *\n",
    "df = get_block_data_with_winning_bids()\n",
    "dft = get_titan_won_921_blocks_bidding_data()\n",
    "df_builder_info = get_builder_info()"
   ]
  },
  {
   "cell_type": "code",
   "execution_count": null,
   "metadata": {},
   "outputs": [],
   "source": [
    "\n",
    "print(df[\"block_number\"] == 19437870)"
   ]
  }
 ],
 "metadata": {
  "kernelspec": {
   "display_name": ".venv",
   "language": "python",
   "name": "python3"
  },
  "language_info": {
   "codemirror_mode": {
    "name": "ipython",
    "version": 3
   },
   "file_extension": ".py",
   "mimetype": "text/x-python",
   "name": "python",
   "nbconvert_exporter": "python",
   "pygments_lexer": "ipython3",
   "version": "3.12.2"
  }
 },
 "nbformat": 4,
 "nbformat_minor": 2
}
