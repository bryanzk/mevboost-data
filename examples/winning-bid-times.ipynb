{
 "cells": [
  {
   "cell_type": "markdown",
   "id": "f7061eee",
   "metadata": {},
   "source": [
    "Analysis Titan's winning 921 blocks.\n",
    "\n",
    "Author: Bryanzk\n",
    "Date Modified: 2024.04.11\n",
    "License: CC0"
   ]
  },
  {
   "cell_type": "code",
   "execution_count": 1,
   "metadata": {},
   "outputs": [],
   "source": [
    "from data_prep_utils import *\n",
    "df = get_block_data_with_winning_bids()\n",
    "dft = get_titan_won_921_blocks_bidding_data()\n",
    "df_builder_info = get_builder_info()"
   ]
  },
  {
   "cell_type": "code",
   "execution_count": 3,
   "metadata": {},
   "outputs": [],
   "source": [
    "# Filter out the duplicate block_number records with the earliest bid_timestamp, which is the winning bid thru the fastest relay\n",
    "# N.B.: this would omit the records with the same block_number but different bid_timestamp from differe relays\n",
    "df_filtered = df.copy()\n",
    "df_filtered = df_filtered.sort_values(['block_number', 'bid_timestamp_ms'])\n",
    "df_filtered = df_filtered.drop_duplicates('block_number', keep='first')\n",
    "\n",
    "# get the unique block numbers won by Titan\n",
    "unique_block_numbers_won_by_titan = dft['block_number'].unique()\n",
    "\n",
    "df_filtered_titan = df_filtered[df_filtered['block_number'].isin(unique_block_numbers_won_by_titan)]\n",
    "# df_filtered_titan.loc[:,'bid_timestamp_ms'] = pd.to_datetime(df_filtered['bid_timestamp_ms'], unit='ms')\n",
    "\n",
    "df_filtered_titan.loc[:,'bid_timestamp_ms'] = df_filtered_titan['bid_timestamp_ms'].astype('int64') # 确保时间戳为整数\n",
    "df_filtered_titan.loc[:,'bid_timestamp_ms'] = pd.to_datetime(df_filtered_titan['bid_timestamp_ms'], unit='ms')\n",
    "\n",
    "\n",
    "# 计算时间差并且存储在新的 Dataframe 中 Calculate the time difference and store it in a new Dataframe.\n",
    "ts_diff_df_titan = (df_filtered_titan['block_datetime'] - df_filtered_titan['bid_timestamp_ms']).apply(lambda x: x.total_seconds()) * 1000\n",
    "\n",
    "# 添加新的列到原始的 Dataframe 中.  Add a new column, ts_diff, as ms difference, to the original Dataframe.\n",
    "# if ts_diff > 0, bid before 12s, if ts_diff<0, bid after 12s\n",
    "df_filtered_titan = pd.concat([df_filtered_titan, ts_diff_df_titan.rename('ts_diff')], axis=1)\n"
   ]
  }
 ],
 "metadata": {
  "interpreter": {
   "hash": "aee8b7b246df8f9039afb4144a1f6fd8d2ca17a180786b69acc140d282b71a49"
  },
  "kernelspec": {
   "display_name": "Python 3.9.9 64-bit",
   "language": "python",
   "name": "python3"
  },
  "language_info": {
   "codemirror_mode": {
    "name": "ipython",
    "version": 3
   },
   "file_extension": ".py",
   "mimetype": "text/x-python",
   "name": "python",
   "nbconvert_exporter": "python",
   "pygments_lexer": "ipython3",
   "version": "3.12.2"
  }
 },
 "nbformat": 4,
 "nbformat_minor": 5
}
